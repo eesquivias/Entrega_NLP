{
 "cells": [
  {
   "cell_type": "markdown",
   "metadata": {},
   "source": [
    "\n",
    "# PRACTICA NLP. NOTEBOOK 1\n",
    "\n",
    "\n",
    "## 1.- Descarga y exploración del corpus"
   ]
  },
  {
   "cell_type": "markdown",
   "metadata": {},
   "source": [
    "El alumno descargará el/los corpus que desee (detalle sobre los datos a utilizar en\n",
    "el siguiente punto) y realizará un análisis exploratorio de los datos.\n",
    "Este ejercicio deberá contener:\n",
    "- Cardinalidad del vocabulario\n",
    "- Distribución de reviews por número de estrellas\n",
    "- Nº de reviews positivas y negativas\n",
    "- N-grams más frecuentes\n",
    "- Nubes de palabras\n",
    "- Visualización en 2 dimensiones de algunos word embeddings calculados con\n",
    "Word2Vec (elegir 4-5 palabras y pintar las top 10 más similares)\n",
    "- Conclusiones de la exploración\n",
    "- Cualquier otra métrica / exploración / cálculo que el alumno considere"
   ]
  },
  {
   "cell_type": "markdown",
   "metadata": {},
   "source": [
    "Link a descarga de los corpus con los que trabajar:\n",
    "https://nijianmo.github.io/amazon/index.html"
   ]
  },
  {
   "cell_type": "code",
   "execution_count": 2,
   "metadata": {},
   "outputs": [],
   "source": [
    "#LIBRERIAS QUE PUEDO NECESITAR:\n",
    "import pandas as pd\n",
    "import numpy as np\n",
    "import matplotlib.pyplot as plt\n",
    "from matplotlib.colors import ListedColormap\n",
    "\n",
    "%matplotlib inline \n",
    "\n",
    "cm = plt.cm.RdBu\n",
    "cm_bright = ListedColormap(['#FF0000', '#0000FF'])\n",
    "\n",
    "from sklearn.metrics import f1_score, roc_auc_score, accuracy_score\n",
    "import re\n",
    "import bz2\n",
    "import gzip\n",
    "import json\n",
    "import string\n",
    "from nltk import word_tokenize\n",
    "\n",
    "import warnings\n",
    "warnings.filterwarnings('ignore')\n",
    "import seaborn as sns\n",
    "\n",
    "from collections import Counter\n",
    "from itertools import chain\n",
    "from wordcloud import WordCloud\n",
    "from gensim.models import Word2Vec\n",
    "from gensim.models.word2vec import LineSentence\n",
    "\n",
    "pd.set_option('display.max_rows', None)\n",
    "pd.set_option('display.max_columns', None)\n",
    "pd.set_option('display.max_colwidth', -1)"
   ]
  },
  {
   "cell_type": "code",
   "execution_count": 3,
   "metadata": {},
   "outputs": [],
   "source": [
    "#cargo el dataset en pandas. \n",
    "#como voy a probar más de 1 cargo de momento 3, de diferentes tamaños \n",
    "def parse(path):\n",
    "    g = gzip.open(path, 'rb')\n",
    "    for l in g:\n",
    "        yield json.loads(l)\n",
    "               \n",
    "def getDF(path):\n",
    "    i = 0\n",
    "    df = {}\n",
    "    for d in parse(path):\n",
    "        df[i] = d\n",
    "        i += 1\n",
    "    return pd.DataFrame.from_dict(df, orient='index')\n",
    "\n",
    "df_music_inst = getDF('Musical_Instruments_5.json.gz')\n",
    "df_garden = getDF('Patio_Lawn_and_Garden_5.json.gz')\n",
    "df_science = getDF('Industrial_and_Scientific_5.json.gz')"
   ]
  },
  {
   "cell_type": "code",
   "execution_count": 4,
   "metadata": {},
   "outputs": [
    {
     "data": {
      "text/html": [
       "<div>\n",
       "<style scoped>\n",
       "    .dataframe tbody tr th:only-of-type {\n",
       "        vertical-align: middle;\n",
       "    }\n",
       "\n",
       "    .dataframe tbody tr th {\n",
       "        vertical-align: top;\n",
       "    }\n",
       "\n",
       "    .dataframe thead th {\n",
       "        text-align: right;\n",
       "    }\n",
       "</style>\n",
       "<table border=\"1\" class=\"dataframe\">\n",
       "  <thead>\n",
       "    <tr style=\"text-align: right;\">\n",
       "      <th></th>\n",
       "      <th>0</th>\n",
       "      <th>1</th>\n",
       "    </tr>\n",
       "  </thead>\n",
       "  <tbody>\n",
       "    <tr>\n",
       "      <th>overall</th>\n",
       "      <td>5</td>\n",
       "      <td>5</td>\n",
       "    </tr>\n",
       "    <tr>\n",
       "      <th>verified</th>\n",
       "      <td>True</td>\n",
       "      <td>True</td>\n",
       "    </tr>\n",
       "    <tr>\n",
       "      <th>reviewTime</th>\n",
       "      <td>10 30, 2016</td>\n",
       "      <td>06 30, 2016</td>\n",
       "    </tr>\n",
       "    <tr>\n",
       "      <th>reviewerID</th>\n",
       "      <td>A3FO5AKVTFRCRJ</td>\n",
       "      <td>A3UCGC1DHFMBCE</td>\n",
       "    </tr>\n",
       "    <tr>\n",
       "      <th>asin</th>\n",
       "      <td>0739079891</td>\n",
       "      <td>0739079891</td>\n",
       "    </tr>\n",
       "    <tr>\n",
       "      <th>reviewerName</th>\n",
       "      <td>francisco</td>\n",
       "      <td>Eb Jack Murray</td>\n",
       "    </tr>\n",
       "    <tr>\n",
       "      <th>reviewText</th>\n",
       "      <td>It's good for beginners</td>\n",
       "      <td>I recommend this starter Ukulele kit.  I has everything you\\nneed to learn the Ukulele.</td>\n",
       "    </tr>\n",
       "    <tr>\n",
       "      <th>summary</th>\n",
       "      <td>Five Stars</td>\n",
       "      <td>Five Stars</td>\n",
       "    </tr>\n",
       "    <tr>\n",
       "      <th>unixReviewTime</th>\n",
       "      <td>1477785600</td>\n",
       "      <td>1467244800</td>\n",
       "    </tr>\n",
       "    <tr>\n",
       "      <th>vote</th>\n",
       "      <td>NaN</td>\n",
       "      <td>NaN</td>\n",
       "    </tr>\n",
       "    <tr>\n",
       "      <th>style</th>\n",
       "      <td>NaN</td>\n",
       "      <td>NaN</td>\n",
       "    </tr>\n",
       "    <tr>\n",
       "      <th>image</th>\n",
       "      <td>NaN</td>\n",
       "      <td>NaN</td>\n",
       "    </tr>\n",
       "  </tbody>\n",
       "</table>\n",
       "</div>"
      ],
      "text/plain": [
       "                                      0  \\\n",
       "overall         5                         \n",
       "verified        True                      \n",
       "reviewTime      10 30, 2016               \n",
       "reviewerID      A3FO5AKVTFRCRJ            \n",
       "asin            0739079891                \n",
       "reviewerName    francisco                 \n",
       "reviewText      It's good for beginners   \n",
       "summary         Five Stars                \n",
       "unixReviewTime  1477785600                \n",
       "vote            NaN                       \n",
       "style           NaN                       \n",
       "image           NaN                       \n",
       "\n",
       "                                                                                                      1  \n",
       "overall         5                                                                                        \n",
       "verified        True                                                                                     \n",
       "reviewTime      06 30, 2016                                                                              \n",
       "reviewerID      A3UCGC1DHFMBCE                                                                           \n",
       "asin            0739079891                                                                               \n",
       "reviewerName    Eb Jack Murray                                                                           \n",
       "reviewText      I recommend this starter Ukulele kit.  I has everything you\\nneed to learn the Ukulele.  \n",
       "summary         Five Stars                                                                               \n",
       "unixReviewTime  1467244800                                                                               \n",
       "vote            NaN                                                                                      \n",
       "style           NaN                                                                                      \n",
       "image           NaN                                                                                      "
      ]
     },
     "execution_count": 4,
     "metadata": {},
     "output_type": "execute_result"
    }
   ],
   "source": [
    "#hago una revisión inicial de los 3 por encima\n",
    "df_music_inst.head(2).T\n",
    "\n",
    "#asin: id of the product\n",
    "#summary: summary\n",
    "#overall: number of stars\n",
    "#reviewText: review\n",
    "#reviewerName...\n"
   ]
  },
  {
   "cell_type": "code",
   "execution_count": 5,
   "metadata": {},
   "outputs": [
    {
     "data": {
      "text/html": [
       "<div>\n",
       "<style scoped>\n",
       "    .dataframe tbody tr th:only-of-type {\n",
       "        vertical-align: middle;\n",
       "    }\n",
       "\n",
       "    .dataframe tbody tr th {\n",
       "        vertical-align: top;\n",
       "    }\n",
       "\n",
       "    .dataframe thead th {\n",
       "        text-align: right;\n",
       "    }\n",
       "</style>\n",
       "<table border=\"1\" class=\"dataframe\">\n",
       "  <thead>\n",
       "    <tr style=\"text-align: right;\">\n",
       "      <th></th>\n",
       "      <th>0</th>\n",
       "      <th>1</th>\n",
       "    </tr>\n",
       "  </thead>\n",
       "  <tbody>\n",
       "    <tr>\n",
       "      <th>overall</th>\n",
       "      <td>5</td>\n",
       "      <td>5</td>\n",
       "    </tr>\n",
       "    <tr>\n",
       "      <th>vote</th>\n",
       "      <td>2</td>\n",
       "      <td>NaN</td>\n",
       "    </tr>\n",
       "    <tr>\n",
       "      <th>verified</th>\n",
       "      <td>True</td>\n",
       "      <td>True</td>\n",
       "    </tr>\n",
       "    <tr>\n",
       "      <th>reviewTime</th>\n",
       "      <td>12 11, 2011</td>\n",
       "      <td>07 30, 2011</td>\n",
       "    </tr>\n",
       "    <tr>\n",
       "      <th>reviewerID</th>\n",
       "      <td>AUVPE2KEXBJVT</td>\n",
       "      <td>A2F6GES1MBOFXS</td>\n",
       "    </tr>\n",
       "    <tr>\n",
       "      <th>asin</th>\n",
       "      <td>9539723809</td>\n",
       "      <td>9539723809</td>\n",
       "    </tr>\n",
       "    <tr>\n",
       "      <th>reviewerName</th>\n",
       "      <td>T. E. Kainz</td>\n",
       "      <td>BluesJamJim</td>\n",
       "    </tr>\n",
       "    <tr>\n",
       "      <th>reviewText</th>\n",
       "      <td>I don't spend a lot on my flags because they really get beat up.  So I but the lesser quality figuring that they'll have to be replaced a couple of times a year anyways.  The fact that this very inexpensive flag is still flying 8 months later pleases me well.  It's up about 20 feet, 7/24, and sees winds averaging 5 to 10 mph on a 'normal' day with the occasional storm friont gusts reaching as high as 60+ mph.  So far (8 months later) it's just now starting to show a little fraying on the ends.  I'll be buying another shortly to have ready when this one finally gives in.</td>\n",
       "      <td>Super fast processing and shipping, if you are looking for flags look no more good quality product and a great company to do business with.</td>\n",
       "    </tr>\n",
       "    <tr>\n",
       "      <th>summary</th>\n",
       "      <td>Good quality for the price</td>\n",
       "      <td>3'x5' Colorado State flag</td>\n",
       "    </tr>\n",
       "    <tr>\n",
       "      <th>unixReviewTime</th>\n",
       "      <td>1323561600</td>\n",
       "      <td>1311984000</td>\n",
       "    </tr>\n",
       "    <tr>\n",
       "      <th>style</th>\n",
       "      <td>NaN</td>\n",
       "      <td>NaN</td>\n",
       "    </tr>\n",
       "    <tr>\n",
       "      <th>image</th>\n",
       "      <td>NaN</td>\n",
       "      <td>NaN</td>\n",
       "    </tr>\n",
       "  </tbody>\n",
       "</table>\n",
       "</div>"
      ],
      "text/plain": [
       "                                                                                                                                                                                                                                                                                                                                                                                                                                                                                                                                                                                                               0  \\\n",
       "overall         5                                                                                                                                                                                                                                                                                                                                                                                                                                                                                                                                                                                                  \n",
       "vote            2                                                                                                                                                                                                                                                                                                                                                                                                                                                                                                                                                                                                  \n",
       "verified        True                                                                                                                                                                                                                                                                                                                                                                                                                                                                                                                                                                                               \n",
       "reviewTime      12 11, 2011                                                                                                                                                                                                                                                                                                                                                                                                                                                                                                                                                                                        \n",
       "reviewerID      AUVPE2KEXBJVT                                                                                                                                                                                                                                                                                                                                                                                                                                                                                                                                                                                      \n",
       "asin            9539723809                                                                                                                                                                                                                                                                                                                                                                                                                                                                                                                                                                                         \n",
       "reviewerName    T. E. Kainz                                                                                                                                                                                                                                                                                                                                                                                                                                                                                                                                                                                        \n",
       "reviewText      I don't spend a lot on my flags because they really get beat up.  So I but the lesser quality figuring that they'll have to be replaced a couple of times a year anyways.  The fact that this very inexpensive flag is still flying 8 months later pleases me well.  It's up about 20 feet, 7/24, and sees winds averaging 5 to 10 mph on a 'normal' day with the occasional storm friont gusts reaching as high as 60+ mph.  So far (8 months later) it's just now starting to show a little fraying on the ends.  I'll be buying another shortly to have ready when this one finally gives in.   \n",
       "summary         Good quality for the price                                                                                                                                                                                                                                                                                                                                                                                                                                                                                                                                                                         \n",
       "unixReviewTime  1323561600                                                                                                                                                                                                                                                                                                                                                                                                                                                                                                                                                                                         \n",
       "style           NaN                                                                                                                                                                                                                                                                                                                                                                                                                                                                                                                                                                                                \n",
       "image           NaN                                                                                                                                                                                                                                                                                                                                                                                                                                                                                                                                                                                                \n",
       "\n",
       "                                                                                                                                                          1  \n",
       "overall         5                                                                                                                                            \n",
       "vote            NaN                                                                                                                                          \n",
       "verified        True                                                                                                                                         \n",
       "reviewTime      07 30, 2011                                                                                                                                  \n",
       "reviewerID      A2F6GES1MBOFXS                                                                                                                               \n",
       "asin            9539723809                                                                                                                                   \n",
       "reviewerName    BluesJamJim                                                                                                                                  \n",
       "reviewText      Super fast processing and shipping, if you are looking for flags look no more good quality product and a great company to do business with.  \n",
       "summary         3'x5' Colorado State flag                                                                                                                    \n",
       "unixReviewTime  1311984000                                                                                                                                   \n",
       "style           NaN                                                                                                                                          \n",
       "image           NaN                                                                                                                                          "
      ]
     },
     "execution_count": 5,
     "metadata": {},
     "output_type": "execute_result"
    }
   ],
   "source": [
    "df_garden.head(2).T"
   ]
  },
  {
   "cell_type": "code",
   "execution_count": 6,
   "metadata": {},
   "outputs": [
    {
     "data": {
      "text/html": [
       "<div>\n",
       "<style scoped>\n",
       "    .dataframe tbody tr th:only-of-type {\n",
       "        vertical-align: middle;\n",
       "    }\n",
       "\n",
       "    .dataframe tbody tr th {\n",
       "        vertical-align: top;\n",
       "    }\n",
       "\n",
       "    .dataframe thead th {\n",
       "        text-align: right;\n",
       "    }\n",
       "</style>\n",
       "<table border=\"1\" class=\"dataframe\">\n",
       "  <thead>\n",
       "    <tr style=\"text-align: right;\">\n",
       "      <th></th>\n",
       "      <th>0</th>\n",
       "      <th>1</th>\n",
       "    </tr>\n",
       "  </thead>\n",
       "  <tbody>\n",
       "    <tr>\n",
       "      <th>overall</th>\n",
       "      <td>5</td>\n",
       "      <td>5</td>\n",
       "    </tr>\n",
       "    <tr>\n",
       "      <th>verified</th>\n",
       "      <td>True</td>\n",
       "      <td>True</td>\n",
       "    </tr>\n",
       "    <tr>\n",
       "      <th>reviewTime</th>\n",
       "      <td>11 27, 2017</td>\n",
       "      <td>11 4, 2017</td>\n",
       "    </tr>\n",
       "    <tr>\n",
       "      <th>reviewerID</th>\n",
       "      <td>A1JB7HFWHRYHT7</td>\n",
       "      <td>A2FCLJG5GV8SD6</td>\n",
       "    </tr>\n",
       "    <tr>\n",
       "      <th>asin</th>\n",
       "      <td>B0000223SI</td>\n",
       "      <td>B0000223SI</td>\n",
       "    </tr>\n",
       "    <tr>\n",
       "      <th>style</th>\n",
       "      <td>{'Size:': ' 1-(Pack)'}</td>\n",
       "      <td>{'Size:': ' 1-(Pack)'}</td>\n",
       "    </tr>\n",
       "    <tr>\n",
       "      <th>reviewerName</th>\n",
       "      <td>Alex W.</td>\n",
       "      <td>Randall Harris</td>\n",
       "    </tr>\n",
       "    <tr>\n",
       "      <th>reviewText</th>\n",
       "      <td>This worked really well for what I used it for. So for my purposes it is getting full marks. This is an all around great, durable, and afforable sandpaper.\\n\\nPros:\\n-Grit cuts really fast and evenly. No random deep scratches like I have seen in some cheaper paper\\n-Didn't even have a hint of clogging up.\\n-The adhesive is just what I needed. No permanent, but wasn't going anywhere.\\n\\nCons:\\n-None</td>\n",
       "      <td>Fast cutting and good adheasive.</td>\n",
       "    </tr>\n",
       "    <tr>\n",
       "      <th>summary</th>\n",
       "      <td>Couldn't have been happier with it's performance</td>\n",
       "      <td>Good paper.</td>\n",
       "    </tr>\n",
       "    <tr>\n",
       "      <th>unixReviewTime</th>\n",
       "      <td>1511740800</td>\n",
       "      <td>1509753600</td>\n",
       "    </tr>\n",
       "    <tr>\n",
       "      <th>vote</th>\n",
       "      <td>NaN</td>\n",
       "      <td>NaN</td>\n",
       "    </tr>\n",
       "    <tr>\n",
       "      <th>image</th>\n",
       "      <td>NaN</td>\n",
       "      <td>NaN</td>\n",
       "    </tr>\n",
       "  </tbody>\n",
       "</table>\n",
       "</div>"
      ],
      "text/plain": [
       "                                                                                                                                                                                                                                                                                                                                                                                                                                0  \\\n",
       "overall         5                                                                                                                                                                                                                                                                                                                                                                                                                   \n",
       "verified        True                                                                                                                                                                                                                                                                                                                                                                                                                \n",
       "reviewTime      11 27, 2017                                                                                                                                                                                                                                                                                                                                                                                                         \n",
       "reviewerID      A1JB7HFWHRYHT7                                                                                                                                                                                                                                                                                                                                                                                                      \n",
       "asin            B0000223SI                                                                                                                                                                                                                                                                                                                                                                                                          \n",
       "style           {'Size:': ' 1-(Pack)'}                                                                                                                                                                                                                                                                                                                                                                                              \n",
       "reviewerName    Alex W.                                                                                                                                                                                                                                                                                                                                                                                                             \n",
       "reviewText      This worked really well for what I used it for. So for my purposes it is getting full marks. This is an all around great, durable, and afforable sandpaper.\\n\\nPros:\\n-Grit cuts really fast and evenly. No random deep scratches like I have seen in some cheaper paper\\n-Didn't even have a hint of clogging up.\\n-The adhesive is just what I needed. No permanent, but wasn't going anywhere.\\n\\nCons:\\n-None   \n",
       "summary         Couldn't have been happier with it's performance                                                                                                                                                                                                                                                                                                                                                                    \n",
       "unixReviewTime  1511740800                                                                                                                                                                                                                                                                                                                                                                                                          \n",
       "vote            NaN                                                                                                                                                                                                                                                                                                                                                                                                                 \n",
       "image           NaN                                                                                                                                                                                                                                                                                                                                                                                                                 \n",
       "\n",
       "                                               1  \n",
       "overall         5                                 \n",
       "verified        True                              \n",
       "reviewTime      11 4, 2017                        \n",
       "reviewerID      A2FCLJG5GV8SD6                    \n",
       "asin            B0000223SI                        \n",
       "style           {'Size:': ' 1-(Pack)'}            \n",
       "reviewerName    Randall Harris                    \n",
       "reviewText      Fast cutting and good adheasive.  \n",
       "summary         Good paper.                       \n",
       "unixReviewTime  1509753600                        \n",
       "vote            NaN                               \n",
       "image           NaN                               "
      ]
     },
     "execution_count": 6,
     "metadata": {},
     "output_type": "execute_result"
    }
   ],
   "source": [
    "df_science.head(2).T"
   ]
  },
  {
   "cell_type": "code",
   "execution_count": 7,
   "metadata": {},
   "outputs": [
    {
     "name": "stdout",
     "output_type": "stream",
     "text": [
      "Tamaño del dataset original de instrumentos musicales:  (231392, 12)\n",
      "Tamaño del dataset original de garden:  (798415, 12)\n",
      "Tamaño del dataset original de industrial y ciencia:  (77071, 12)\n"
     ]
    }
   ],
   "source": [
    "# Probablemente sea buena idea seleccionar una muestra similar de los 3 para trabajar en condiciones similares con los 3.\n",
    "# espero a ver cómo se reparten las valoraciones para intentar que estén lo más balanceadas posible. \n",
    "print('Tamaño del dataset original de instrumentos musicales: ', df_music_inst.shape)\n",
    "print('Tamaño del dataset original de garden: ', df_garden.shape)\n",
    "print('Tamaño del dataset original de industrial y ciencia: ', df_science.shape)"
   ]
  },
  {
   "cell_type": "markdown",
   "metadata": {},
   "source": [
    "#### Avanzo con el primer dataset y luego aplico lo que hago en el primero a los otros dos. Es una forma de ver generalización \n"
   ]
  },
  {
   "cell_type": "code",
   "execution_count": 8,
   "metadata": {
    "scrolled": true
   },
   "outputs": [
    {
     "name": "stdout",
     "output_type": "stream",
     "text": [
      "<class 'pandas.core.frame.DataFrame'>\n",
      "Int64Index: 231392 entries, 0 to 231391\n",
      "Data columns (total 12 columns):\n",
      " #   Column          Non-Null Count   Dtype  \n",
      "---  ------          --------------   -----  \n",
      " 0   overall         231392 non-null  float64\n",
      " 1   verified        231392 non-null  bool   \n",
      " 2   reviewTime      231392 non-null  object \n",
      " 3   reviewerID      231392 non-null  object \n",
      " 4   asin            231392 non-null  object \n",
      " 5   reviewerName    231367 non-null  object \n",
      " 6   reviewText      231344 non-null  object \n",
      " 7   summary         231341 non-null  object \n",
      " 8   unixReviewTime  231392 non-null  int64  \n",
      " 9   vote            34777 non-null   object \n",
      " 10  style           121310 non-null  object \n",
      " 11  image           3889 non-null    object \n",
      "dtypes: bool(1), float64(1), int64(1), object(9)\n",
      "memory usage: 21.4+ MB\n"
     ]
    }
   ],
   "source": [
    "df_music_inst.info()\n",
    "#reduzco variables, me interesan en principio overall como label y reviewText y summary para el corpus.Estas dos últimas tienen algunos nulos.\n",
    "#limpio las entradas en las que review y summary puedan estar en blanco y concateno para que si no es un campo, el otro esté relleno y aporte información. \n"
   ]
  },
  {
   "cell_type": "code",
   "execution_count": 9,
   "metadata": {
    "scrolled": true
   },
   "outputs": [
    {
     "data": {
      "text/html": [
       "<div>\n",
       "<style scoped>\n",
       "    .dataframe tbody tr th:only-of-type {\n",
       "        vertical-align: middle;\n",
       "    }\n",
       "\n",
       "    .dataframe tbody tr th {\n",
       "        vertical-align: top;\n",
       "    }\n",
       "\n",
       "    .dataframe thead th {\n",
       "        text-align: right;\n",
       "    }\n",
       "</style>\n",
       "<table border=\"1\" class=\"dataframe\">\n",
       "  <thead>\n",
       "    <tr style=\"text-align: right;\">\n",
       "      <th></th>\n",
       "      <th>overall</th>\n",
       "      <th>verified</th>\n",
       "      <th>reviewTime</th>\n",
       "      <th>reviewerID</th>\n",
       "      <th>asin</th>\n",
       "      <th>reviewerName</th>\n",
       "      <th>reviewText</th>\n",
       "      <th>summary</th>\n",
       "      <th>unixReviewTime</th>\n",
       "      <th>vote</th>\n",
       "      <th>style</th>\n",
       "      <th>image</th>\n",
       "    </tr>\n",
       "  </thead>\n",
       "  <tbody>\n",
       "    <tr>\n",
       "      <th>16840</th>\n",
       "      <td>5.0</td>\n",
       "      <td>True</td>\n",
       "      <td>01 25, 2018</td>\n",
       "      <td>A3N0SYVG1A2T5Y</td>\n",
       "      <td>B0002E1NNC</td>\n",
       "      <td>Robert h.</td>\n",
       "      <td>NaN</td>\n",
       "      <td>Five Stars</td>\n",
       "      <td>1516838400</td>\n",
       "      <td>NaN</td>\n",
       "      <td>{'Size:': ' HD Light (.013-.053)', 'Style:': ' 80/20  NANOWEB Coating'}</td>\n",
       "      <td>NaN</td>\n",
       "    </tr>\n",
       "    <tr>\n",
       "      <th>16999</th>\n",
       "      <td>5.0</td>\n",
       "      <td>True</td>\n",
       "      <td>11 18, 2017</td>\n",
       "      <td>A2ACJCJOSZOW8Z</td>\n",
       "      <td>B0002E1NNC</td>\n",
       "      <td>Private</td>\n",
       "      <td>NaN</td>\n",
       "      <td>Excellent Strings!</td>\n",
       "      <td>1510963200</td>\n",
       "      <td>NaN</td>\n",
       "      <td>{'Size:': ' Light (.012-.053)', 'Style:': ' 80/20  NANOWEB Coating'}</td>\n",
       "      <td>NaN</td>\n",
       "    </tr>\n",
       "    <tr>\n",
       "      <th>17465</th>\n",
       "      <td>5.0</td>\n",
       "      <td>True</td>\n",
       "      <td>01 25, 2018</td>\n",
       "      <td>A3N0SYVG1A2T5Y</td>\n",
       "      <td>B0002E1NWI</td>\n",
       "      <td>Robert h.</td>\n",
       "      <td>NaN</td>\n",
       "      <td>Five Stars</td>\n",
       "      <td>1516838400</td>\n",
       "      <td>NaN</td>\n",
       "      <td>NaN</td>\n",
       "      <td>NaN</td>\n",
       "    </tr>\n",
       "    <tr>\n",
       "      <th>17627</th>\n",
       "      <td>5.0</td>\n",
       "      <td>True</td>\n",
       "      <td>11 18, 2017</td>\n",
       "      <td>A2ACJCJOSZOW8Z</td>\n",
       "      <td>B0002E1NWI</td>\n",
       "      <td>Private</td>\n",
       "      <td>NaN</td>\n",
       "      <td>Excellent Strings!</td>\n",
       "      <td>1510963200</td>\n",
       "      <td>NaN</td>\n",
       "      <td>NaN</td>\n",
       "      <td>NaN</td>\n",
       "    </tr>\n",
       "    <tr>\n",
       "      <th>25914</th>\n",
       "      <td>5.0</td>\n",
       "      <td>True</td>\n",
       "      <td>02 29, 2016</td>\n",
       "      <td>A2TB3K1Z2YG1O4</td>\n",
       "      <td>B0002E3CK4</td>\n",
       "      <td>Kelly</td>\n",
       "      <td>NaN</td>\n",
       "      <td>Five Stars</td>\n",
       "      <td>1456704000</td>\n",
       "      <td>NaN</td>\n",
       "      <td>{'Size:': ' Regular Light, 10-46', 'Style:': ' 3-Pack'}</td>\n",
       "      <td>NaN</td>\n",
       "    </tr>\n",
       "  </tbody>\n",
       "</table>\n",
       "</div>"
      ],
      "text/plain": [
       "       overall  verified   reviewTime      reviewerID        asin  \\\n",
       "16840  5.0      True      01 25, 2018  A3N0SYVG1A2T5Y  B0002E1NNC   \n",
       "16999  5.0      True      11 18, 2017  A2ACJCJOSZOW8Z  B0002E1NNC   \n",
       "17465  5.0      True      01 25, 2018  A3N0SYVG1A2T5Y  B0002E1NWI   \n",
       "17627  5.0      True      11 18, 2017  A2ACJCJOSZOW8Z  B0002E1NWI   \n",
       "25914  5.0      True      02 29, 2016  A2TB3K1Z2YG1O4  B0002E3CK4   \n",
       "\n",
       "      reviewerName reviewText             summary  unixReviewTime vote  \\\n",
       "16840  Robert h.    NaN        Five Stars          1516838400      NaN   \n",
       "16999  Private      NaN        Excellent Strings!  1510963200      NaN   \n",
       "17465  Robert h.    NaN        Five Stars          1516838400      NaN   \n",
       "17627  Private      NaN        Excellent Strings!  1510963200      NaN   \n",
       "25914  Kelly        NaN        Five Stars          1456704000      NaN   \n",
       "\n",
       "                                                                         style  \\\n",
       "16840  {'Size:': ' HD Light (.013-.053)', 'Style:': ' 80/20  NANOWEB Coating'}   \n",
       "16999  {'Size:': ' Light (.012-.053)', 'Style:': ' 80/20  NANOWEB Coating'}      \n",
       "17465  NaN                                                                       \n",
       "17627  NaN                                                                       \n",
       "25914  {'Size:': ' Regular Light, 10-46', 'Style:': ' 3-Pack'}                   \n",
       "\n",
       "      image  \n",
       "16840  NaN   \n",
       "16999  NaN   \n",
       "17465  NaN   \n",
       "17627  NaN   \n",
       "25914  NaN   "
      ]
     },
     "execution_count": 9,
     "metadata": {},
     "output_type": "execute_result"
    }
   ],
   "source": [
    "#localizo los NaN en reviewText a ver si en general tienen summary\n",
    "df_inst_series=pd.isnull(df_music_inst['reviewText']) \n",
    "df_music_inst[df_inst_series].head()"
   ]
  },
  {
   "cell_type": "code",
   "execution_count": 10,
   "metadata": {},
   "outputs": [
    {
     "data": {
      "text/html": [
       "<div>\n",
       "<style scoped>\n",
       "    .dataframe tbody tr th:only-of-type {\n",
       "        vertical-align: middle;\n",
       "    }\n",
       "\n",
       "    .dataframe tbody tr th {\n",
       "        vertical-align: top;\n",
       "    }\n",
       "\n",
       "    .dataframe thead th {\n",
       "        text-align: right;\n",
       "    }\n",
       "</style>\n",
       "<table border=\"1\" class=\"dataframe\">\n",
       "  <thead>\n",
       "    <tr style=\"text-align: right;\">\n",
       "      <th></th>\n",
       "      <th>overall</th>\n",
       "      <th>verified</th>\n",
       "      <th>reviewTime</th>\n",
       "      <th>reviewerID</th>\n",
       "      <th>asin</th>\n",
       "      <th>reviewerName</th>\n",
       "      <th>reviewText</th>\n",
       "      <th>summary</th>\n",
       "      <th>unixReviewTime</th>\n",
       "      <th>vote</th>\n",
       "      <th>style</th>\n",
       "      <th>image</th>\n",
       "    </tr>\n",
       "  </thead>\n",
       "  <tbody>\n",
       "    <tr>\n",
       "      <th>4758</th>\n",
       "      <td>5.0</td>\n",
       "      <td>True</td>\n",
       "      <td>03 13, 2014</td>\n",
       "      <td>A3010VBY64UGRH</td>\n",
       "      <td>B0002CZW0Y</td>\n",
       "      <td>Lamont</td>\n",
       "      <td>I just bought this and I can't say anything negative about it. It does it's job. Nice basic product no need to look further</td>\n",
       "      <td>NaN</td>\n",
       "      <td>1394668800</td>\n",
       "      <td>NaN</td>\n",
       "      <td>{'Style:': ' Pop Filter with Stablizing Arm'}</td>\n",
       "      <td>NaN</td>\n",
       "    </tr>\n",
       "    <tr>\n",
       "      <th>5338</th>\n",
       "      <td>5.0</td>\n",
       "      <td>True</td>\n",
       "      <td>09 8, 2014</td>\n",
       "      <td>A157T7ALB7BE89</td>\n",
       "      <td>B0002CZTI4</td>\n",
       "      <td>Seer1</td>\n",
       "      <td>Great Product.  Great Packaging.  Great Price.  Great People to do Business with.\\n\\nMahalo Nui Loa (Hawai'ian: Thank You Very Much) for fulfilling your obligation in a glorious way.\\n\\nCheers &gt;&lt;&gt;</td>\n",
       "      <td>NaN</td>\n",
       "      <td>1410134400</td>\n",
       "      <td>NaN</td>\n",
       "      <td>{'Style:': ' 88 Note'}</td>\n",
       "      <td>NaN</td>\n",
       "    </tr>\n",
       "    <tr>\n",
       "      <th>8011</th>\n",
       "      <td>5.0</td>\n",
       "      <td>True</td>\n",
       "      <td>03 1, 2015</td>\n",
       "      <td>A3KR9XO6MX9GZJ</td>\n",
       "      <td>B0002D09Q0</td>\n",
       "      <td>lauren</td>\n",
       "      <td>Best sax reeds</td>\n",
       "      <td>NaN</td>\n",
       "      <td>1425168000</td>\n",
       "      <td>NaN</td>\n",
       "      <td>{'Size:': ' Strength 3.5'}</td>\n",
       "      <td>NaN</td>\n",
       "    </tr>\n",
       "    <tr>\n",
       "      <th>10717</th>\n",
       "      <td>5.0</td>\n",
       "      <td>False</td>\n",
       "      <td>05 11, 2017</td>\n",
       "      <td>A3DT5MYASB9M90</td>\n",
       "      <td>B0002D0CQC</td>\n",
       "      <td>joshua</td>\n",
       "      <td>This is definitely the best of the string cleaners i have tried. This products does more than what i claims it conditions your strings extending the life and keeping them in tune, and also oils the strings making your guitar easier to play while not leaving to much oil behind, it also cleans and protects your strings.</td>\n",
       "      <td>NaN</td>\n",
       "      <td>1494460800</td>\n",
       "      <td>NaN</td>\n",
       "      <td>{'Size:': ' One Bottle'}</td>\n",
       "      <td>NaN</td>\n",
       "    </tr>\n",
       "    <tr>\n",
       "      <th>13330</th>\n",
       "      <td>5.0</td>\n",
       "      <td>True</td>\n",
       "      <td>03 1, 2015</td>\n",
       "      <td>A3KR9XO6MX9GZJ</td>\n",
       "      <td>B0002D09Y2</td>\n",
       "      <td>lauren</td>\n",
       "      <td>Best reeds for clarinet</td>\n",
       "      <td>NaN</td>\n",
       "      <td>1425168000</td>\n",
       "      <td>NaN</td>\n",
       "      <td>{'Size:': ' 3.5'}</td>\n",
       "      <td>NaN</td>\n",
       "    </tr>\n",
       "  </tbody>\n",
       "</table>\n",
       "</div>"
      ],
      "text/plain": [
       "       overall  verified   reviewTime      reviewerID        asin  \\\n",
       "4758   5.0      True      03 13, 2014  A3010VBY64UGRH  B0002CZW0Y   \n",
       "5338   5.0      True      09 8, 2014   A157T7ALB7BE89  B0002CZTI4   \n",
       "8011   5.0      True      03 1, 2015   A3KR9XO6MX9GZJ  B0002D09Q0   \n",
       "10717  5.0      False     05 11, 2017  A3DT5MYASB9M90  B0002D0CQC   \n",
       "13330  5.0      True      03 1, 2015   A3KR9XO6MX9GZJ  B0002D09Y2   \n",
       "\n",
       "      reviewerName  \\\n",
       "4758   Lamont        \n",
       "5338   Seer1         \n",
       "8011   lauren        \n",
       "10717  joshua        \n",
       "13330  lauren        \n",
       "\n",
       "                                                                                                                                                                                                                                                                                                                            reviewText  \\\n",
       "4758   I just bought this and I can't say anything negative about it. It does it's job. Nice basic product no need to look further                                                                                                                                                                                                       \n",
       "5338   Great Product.  Great Packaging.  Great Price.  Great People to do Business with.\\n\\nMahalo Nui Loa (Hawai'ian: Thank You Very Much) for fulfilling your obligation in a glorious way.\\n\\nCheers ><>                                                                                                                              \n",
       "8011   Best sax reeds                                                                                                                                                                                                                                                                                                                    \n",
       "10717  This is definitely the best of the string cleaners i have tried. This products does more than what i claims it conditions your strings extending the life and keeping them in tune, and also oils the strings making your guitar easier to play while not leaving to much oil behind, it also cleans and protects your strings.   \n",
       "13330  Best reeds for clarinet                                                                                                                                                                                                                                                                                                           \n",
       "\n",
       "      summary  unixReviewTime vote  \\\n",
       "4758   NaN     1394668800      NaN   \n",
       "5338   NaN     1410134400      NaN   \n",
       "8011   NaN     1425168000      NaN   \n",
       "10717  NaN     1494460800      NaN   \n",
       "13330  NaN     1425168000      NaN   \n",
       "\n",
       "                                               style image  \n",
       "4758   {'Style:': ' Pop Filter with Stablizing Arm'}  NaN   \n",
       "5338   {'Style:': ' 88 Note'}                         NaN   \n",
       "8011   {'Size:': ' Strength 3.5'}                     NaN   \n",
       "10717  {'Size:': ' One Bottle'}                       NaN   \n",
       "13330  {'Size:': ' 3.5'}                              NaN   "
      ]
     },
     "execution_count": 10,
     "metadata": {},
     "output_type": "execute_result"
    }
   ],
   "source": [
    "#y los de summary a ver si tienen text\n",
    "df_inst_series_sum=pd.isnull(df_music_inst['summary'])   \n",
    "df_music_inst[df_inst_series_sum].head()\n",
    "\n",
    "#sólo hay uno que no tenga ni review ni summary. 5 stars, pero podrían ser más en otros datasets y podría darse el caso de querer aprovechar toda la información. "
   ]
  },
  {
   "cell_type": "code",
   "execution_count": 11,
   "metadata": {},
   "outputs": [],
   "source": [
    "#limpio la entrada en la que no hay ni reviewText ni summary. las otras valoraciones de texto puedo sacarlas de uno u otro \n",
    "\n",
    "df_music_inst= df_music_inst.dropna(subset = ['reviewText','summary'],how='all')"
   ]
  },
  {
   "cell_type": "code",
   "execution_count": 12,
   "metadata": {},
   "outputs": [],
   "source": [
    "#se me ocurre que podría revisar si influyen las personas en el tipo de review (si los que escriben muchas reviews tienden a poner todas positivas o todas negativas a alguna marca en particular..)...y si influye la hora de review. pero para prácticas futuras. \n",
    "\n",
    "df_music_inst= df_music_inst.drop(['verified','reviewTime','reviewerID','reviewerName','asin','unixReviewTime','vote','style','image'],axis=1)"
   ]
  },
  {
   "cell_type": "code",
   "execution_count": 13,
   "metadata": {},
   "outputs": [
    {
     "data": {
      "text/plain": [
       "(231391, 3)"
      ]
     },
     "execution_count": 13,
     "metadata": {},
     "output_type": "execute_result"
    }
   ],
   "source": [
    "df_music_inst.shape"
   ]
  },
  {
   "cell_type": "code",
   "execution_count": 14,
   "metadata": {},
   "outputs": [
    {
     "data": {
      "text/html": [
       "<div>\n",
       "<style scoped>\n",
       "    .dataframe tbody tr th:only-of-type {\n",
       "        vertical-align: middle;\n",
       "    }\n",
       "\n",
       "    .dataframe tbody tr th {\n",
       "        vertical-align: top;\n",
       "    }\n",
       "\n",
       "    .dataframe thead th {\n",
       "        text-align: right;\n",
       "    }\n",
       "</style>\n",
       "<table border=\"1\" class=\"dataframe\">\n",
       "  <thead>\n",
       "    <tr style=\"text-align: right;\">\n",
       "      <th></th>\n",
       "      <th>overall</th>\n",
       "      <th>reviewText</th>\n",
       "      <th>summary</th>\n",
       "    </tr>\n",
       "  </thead>\n",
       "  <tbody>\n",
       "    <tr>\n",
       "      <th>0</th>\n",
       "      <td>5.0</td>\n",
       "      <td>It's good for beginners</td>\n",
       "      <td>Five Stars</td>\n",
       "    </tr>\n",
       "    <tr>\n",
       "      <th>1</th>\n",
       "      <td>5.0</td>\n",
       "      <td>I recommend this starter Ukulele kit.  I has everything you\\nneed to learn the Ukulele.</td>\n",
       "      <td>Five Stars</td>\n",
       "    </tr>\n",
       "  </tbody>\n",
       "</table>\n",
       "</div>"
      ],
      "text/plain": [
       "   overall  \\\n",
       "0  5.0       \n",
       "1  5.0       \n",
       "\n",
       "                                                                                reviewText  \\\n",
       "0  It's good for beginners                                                                   \n",
       "1  I recommend this starter Ukulele kit.  I has everything you\\nneed to learn the Ukulele.   \n",
       "\n",
       "      summary  \n",
       "0  Five Stars  \n",
       "1  Five Stars  "
      ]
     },
     "execution_count": 14,
     "metadata": {},
     "output_type": "execute_result"
    }
   ],
   "source": [
    "df_music_inst.head(2)"
   ]
  },
  {
   "cell_type": "code",
   "execution_count": 15,
   "metadata": {},
   "outputs": [],
   "source": [
    "#Paso a concatenar reviewText y summary pero primero quito el nan y lo convierto en espacio en blanco. \n",
    "df_music_inst['reviewText'].fillna('',inplace=True)\n",
    "df_music_inst['summary'].fillna('',inplace=True)\n",
    "\n",
    "df_music_inst[\"review\"] = df_music_inst['reviewText'].str.cat(df_music_inst[['summary']], sep=' ')"
   ]
  },
  {
   "cell_type": "code",
   "execution_count": 16,
   "metadata": {},
   "outputs": [
    {
     "data": {
      "text/plain": [
       "overall       0\n",
       "reviewText    0\n",
       "summary       0\n",
       "review        0\n",
       "dtype: int64"
      ]
     },
     "execution_count": 16,
     "metadata": {},
     "output_type": "execute_result"
    }
   ],
   "source": [
    "#Compruebo que no me quedan nulos \n",
    "df_music_inst.isnull().sum()"
   ]
  },
  {
   "cell_type": "code",
   "execution_count": 17,
   "metadata": {},
   "outputs": [],
   "source": [
    "#elimino summary y reviewText y me quedo con review\n",
    "df_music_inst=df_music_inst.drop(['summary','reviewText'],axis=1)"
   ]
  },
  {
   "cell_type": "code",
   "execution_count": 18,
   "metadata": {},
   "outputs": [
    {
     "data": {
      "text/plain": [
       "\"G'daughter received this for Christmas present last year and plays if often. Learning new songs to play regularly\""
      ]
     },
     "execution_count": 18,
     "metadata": {},
     "output_type": "execute_result"
    }
   ],
   "source": [
    "#pruebo que veo que las reviews están \n",
    "df_music_inst.review[2]"
   ]
  },
  {
   "cell_type": "markdown",
   "metadata": {},
   "source": [
    "#### CARDINALIDAD DEL VOCABULARIO: \n",
    "Para poder dar respuesta a la cardinalidad como primera pregunta, entiendo que es necesaria únicamente una primera aproximación al vocabulario que tengo en este dataset (hay que tener en cuenta que voy a hacer subset en los dataset...)\n",
    "Quito mayúsculas y signos de puntuación y cuento mi vocabulario en bruto, palabras tal cual. \n",
    "En el siguiente notebook lematizo, quito stopwords..convierto números a string...limpieza general y preprocesado."
   ]
  },
  {
   "cell_type": "code",
   "execution_count": 19,
   "metadata": {},
   "outputs": [
    {
     "name": "stdout",
     "output_type": "stream",
     "text": [
      "<class 'pandas.core.series.Series'>\n",
      "231391\n"
     ]
    }
   ],
   "source": [
    "texts = df_music_inst['review'].str.lower()\n",
    "texts= texts.str.split()\n",
    "print(type(texts))  \n",
    "print(len(texts))\n",
    "#con esto obtengo una list de lists de palabras"
   ]
  },
  {
   "cell_type": "code",
   "execution_count": 20,
   "metadata": {},
   "outputs": [],
   "source": [
    "#me quedo con lo alfanumérico y quito signos de puntuación. \n",
    "from nltk.tokenize import RegexpTokenizer\n",
    "text=df_music_inst['review'].str.lower()\n",
    "tokenizer = RegexpTokenizer(r'\\w+')\n",
    "words=tokenizer.tokenize('\\n'.join(text))"
   ]
  },
  {
   "cell_type": "code",
   "execution_count": 21,
   "metadata": {},
   "outputs": [],
   "source": [
    "#quitar repetidos en las dos listas\n",
    "vocab= sorted(set(words))"
   ]
  },
  {
   "cell_type": "code",
   "execution_count": 22,
   "metadata": {},
   "outputs": [
    {
     "name": "stdout",
     "output_type": "stream",
     "text": [
      "<class 'list'>\n",
      "<class 'list'>\n"
     ]
    }
   ],
   "source": [
    "print(type(words)) \n",
    "print(type(vocab))\n",
    " #todas son lo mismo (listas)"
   ]
  },
  {
   "cell_type": "code",
   "execution_count": 23,
   "metadata": {},
   "outputs": [
    {
     "name": "stdout",
     "output_type": "stream",
     "text": [
      "Número de palabras sin quitar repetidas:  14607209\n",
      "Número de palabras quitando repetidas:  75795\n"
     ]
    }
   ],
   "source": [
    "# Quitando sólo mayúsculas (pasando a minúsculas) me salen las siguientes palabras en total y palabras sin repetir. \n",
    "\n",
    "print('Número de palabras sin quitar repetidas: ', len(words))\n",
    "print('Número de palabras quitando repetidas: ', len(vocab))"
   ]
  },
  {
   "cell_type": "code",
   "execution_count": 24,
   "metadata": {
    "scrolled": true
   },
   "outputs": [
    {
     "name": "stdout",
     "output_type": "stream",
     "text": [
      "['it', 's', 'good', 'for', 'beginners', 'five', 'stars', 'i', 'recommend', 'this', 'starter', 'ukulele', 'kit', 'i', 'has', 'everything', 'you', 'need', 'to', 'learn', 'the', 'ukulele', 'five', 'stars', 'g']\n"
     ]
    }
   ],
   "source": [
    "print(words[:25])"
   ]
  },
  {
   "cell_type": "code",
   "execution_count": 26,
   "metadata": {},
   "outputs": [
    {
     "name": "stdout",
     "output_type": "stream",
     "text": [
      "['diamond', 'diamondback', 'diamonds', 'diamter', 'diana', 'dianna', 'diap', 'diapason', 'diaper', 'diaphragm', 'diaphragmatic', 'diaphragms', 'diaphram', 'diappoint', 'diappointed', 'diappointing', 'diarias', 'diarmond', 'diary', 'diasy', 'diatone', 'diatonic', 'diatonics', 'diatribe', 'diavlo', 'diaz', 'dicast', 'dice', 'dicent', 'dicer', 'dicers', 'dices', 'dicey', 'dicing', 'dick', 'dickens', 'dicker', 'dickey', 'dickies', 'dicking', 'dicoloration', 'dicribed', 'dics', 'dictate', 'dictated', 'dictates', 'dictating', 'dictation', 'dictations', 'diction']\n"
     ]
    }
   ],
   "source": [
    "print(vocab[22500:22550])        \n",
    "#print(vocab[60150:60500])"
   ]
  },
  {
   "cell_type": "code",
   "execution_count": 27,
   "metadata": {},
   "outputs": [
    {
     "name": "stdout",
     "output_type": "stream",
     "text": [
      "El vocabulario del dataset de instrumentos musicales, entendido como conjunto de palabras distintas de un texto es:  \n",
      "75795\n"
     ]
    }
   ],
   "source": [
    "#finalmente, con una limpieza preliminar mi dataset tiene el siguiente vocabulario:\n",
    "print('El vocabulario del dataset de instrumentos musicales, entendido como conjunto de palabras distintas de un texto es:  ')\n",
    "print(len(vocab))\n"
   ]
  },
  {
   "cell_type": "code",
   "execution_count": 28,
   "metadata": {},
   "outputs": [],
   "source": [
    "#guardo el archivo de textos por si lo vuelvo a necesitar en otro notebook\n",
    "with open(\"file_texts.txt\", 'w') as output:\n",
    "    for row in texts:\n",
    "        output.write(str(row) + '\\n')"
   ]
  },
  {
   "cell_type": "markdown",
   "metadata": {},
   "source": [
    "#### Distribución de reviews por número de estrellas"
   ]
  },
  {
   "cell_type": "code",
   "execution_count": 29,
   "metadata": {},
   "outputs": [
    {
     "name": "stdout",
     "output_type": "stream",
     "text": [
      "El reparto de las reviews por valoración es: \n",
      "5.0    161836\n",
      "4.0    38783 \n",
      "3.0    16030 \n",
      "1.0    7465  \n",
      "2.0    7277  \n",
      "Name: overall, dtype: int64\n"
     ]
    }
   ],
   "source": [
    "print('El reparto de las reviews por valoración es: ')\n",
    "print(df_music_inst.overall.value_counts())\n",
    "\n",
    "# Hay desbalanceo de clases. Bajo mi punto de vista deberíamos verlo como algo normal, pero de cara a entrenar un modelo quizá sea importante equilibrar en la medida de lo posible las valoraciones.\n",
    "# Ni siquiera agrupando por valoraciones se equilibra ya que hay muchas más con 5 estrellas que del resto. \n"
   ]
  },
  {
   "cell_type": "code",
   "execution_count": 30,
   "metadata": {},
   "outputs": [
    {
     "data": {
      "image/png": "[encoded data removed]",
      "text/plain": [
       "<Figure size 432x288 with 1 Axes>"
      ]
     },
     "metadata": {
      "needs_background": "light"
     },
     "output_type": "display_data"
    }
   ],
   "source": [
    "ax=df_music_inst.overall.value_counts().plot(kind='bar')\n",
    "fig = ax.get_figure()\n",
    "fig.savefig(\"score.png\");"
   ]
  },
  {
   "cell_type": "code",
   "execution_count": 31,
   "metadata": {},
   "outputs": [],
   "source": [
    "#Basándome en un criterio de valoración positiva entendida como 4 ó 5, a partir del 3 considero que no es positiva, y como voy a realizar una clasificación binaria y para igual el número de reviews, sumo las 3 a las negativas. \n",
    "#idea a desarrollar si me sobra tiempo: utilizar el 3 para contrastarlo con un listado de palabras de sentimiento positivo y negativo sacado de un estudio de Bo Pang and Lillian Lee (Seeing stars: Exploiting class relationships for sentiment categorization with respect to rating scales, Proceedings of the ACL, 2005.) y ver con cuál de las dos listas encuentro más similitud.   \n",
    "df_music_inst.overall[df_music_inst.overall<=3]=0\n",
    "df_music_inst.overall[df_music_inst.overall>=4]=1"
   ]
  },
  {
   "cell_type": "code",
   "execution_count": 32,
   "metadata": {},
   "outputs": [
    {
     "data": {
      "text/html": [
       "<div>\n",
       "<style scoped>\n",
       "    .dataframe tbody tr th:only-of-type {\n",
       "        vertical-align: middle;\n",
       "    }\n",
       "\n",
       "    .dataframe tbody tr th {\n",
       "        vertical-align: top;\n",
       "    }\n",
       "\n",
       "    .dataframe thead th {\n",
       "        text-align: right;\n",
       "    }\n",
       "</style>\n",
       "<table border=\"1\" class=\"dataframe\">\n",
       "  <thead>\n",
       "    <tr style=\"text-align: right;\">\n",
       "      <th></th>\n",
       "      <th>overall</th>\n",
       "      <th>review</th>\n",
       "    </tr>\n",
       "  </thead>\n",
       "  <tbody>\n",
       "    <tr>\n",
       "      <th>0</th>\n",
       "      <td>1.0</td>\n",
       "      <td>It's good for beginners Five Stars</td>\n",
       "    </tr>\n",
       "    <tr>\n",
       "      <th>1</th>\n",
       "      <td>1.0</td>\n",
       "      <td>I recommend this starter Ukulele kit.  I has everything you\\nneed to learn the Ukulele. Five Stars</td>\n",
       "    </tr>\n",
       "    <tr>\n",
       "      <th>2</th>\n",
       "      <td>1.0</td>\n",
       "      <td>G'daughter received this for Christmas present last year and plays if often. Learning new songs to play regularly</td>\n",
       "    </tr>\n",
       "  </tbody>\n",
       "</table>\n",
       "</div>"
      ],
      "text/plain": [
       "   overall  \\\n",
       "0  1.0       \n",
       "1  1.0       \n",
       "2  1.0       \n",
       "\n",
       "                                                                                                              review  \n",
       "0  It's good for beginners Five Stars                                                                                 \n",
       "1  I recommend this starter Ukulele kit.  I has everything you\\nneed to learn the Ukulele. Five Stars                 \n",
       "2  G'daughter received this for Christmas present last year and plays if often. Learning new songs to play regularly  "
      ]
     },
     "execution_count": 32,
     "metadata": {},
     "output_type": "execute_result"
    }
   ],
   "source": [
    "df_music_inst.head(3)"
   ]
  },
  {
   "cell_type": "code",
   "execution_count": 33,
   "metadata": {},
   "outputs": [
    {
     "data": {
      "text/plain": [
       "1.0    200619\n",
       "0.0    30772 \n",
       "Name: overall, dtype: int64"
      ]
     },
     "execution_count": 33,
     "metadata": {},
     "output_type": "execute_result"
    }
   ],
   "source": [
    "df_music_inst.overall.value_counts()"
   ]
  },
  {
   "cell_type": "code",
   "execution_count": 34,
   "metadata": {},
   "outputs": [],
   "source": [
    "#decido quedarme con 30000 reviews positivas y otras tantas negativas. \n",
    "df_music_pos=df_music_inst[df_music_inst.overall==1][:30000]\n",
    "df_music_neg=df_music_inst[df_music_inst.overall==0][:30000]"
   ]
  },
  {
   "cell_type": "code",
   "execution_count": 35,
   "metadata": {},
   "outputs": [],
   "source": [
    "df_music_inst=df_music_pos.append(df_music_neg)"
   ]
  },
  {
   "cell_type": "code",
   "execution_count": 36,
   "metadata": {},
   "outputs": [
    {
     "data": {
      "text/plain": [
       "(60000, 2)"
      ]
     },
     "execution_count": 36,
     "metadata": {},
     "output_type": "execute_result"
    }
   ],
   "source": [
    "df_music_inst.shape"
   ]
  },
  {
   "cell_type": "code",
   "execution_count": 37,
   "metadata": {},
   "outputs": [
    {
     "name": "stdout",
     "output_type": "stream",
     "text": [
      "<class 'pandas.core.frame.DataFrame'>\n",
      "Int64Index: 60000 entries, 0 to 227281\n",
      "Data columns (total 2 columns):\n",
      " #   Column   Non-Null Count  Dtype  \n",
      "---  ------   --------------  -----  \n",
      " 0   overall  60000 non-null  float64\n",
      " 1   review   60000 non-null  object \n",
      "dtypes: float64(1), object(1)\n",
      "memory usage: 1.4+ MB\n"
     ]
    }
   ],
   "source": [
    "df_music_inst.info()"
   ]
  },
  {
   "cell_type": "code",
   "execution_count": 38,
   "metadata": {},
   "outputs": [],
   "source": [
    "#guardo el dataframe con estos ajustes para usarlo en los próximos notebooks.\n",
    "df_music_inst.to_csv('df_music_inst.csv', sep=';', decimal='.', index=False)"
   ]
  },
  {
   "cell_type": "markdown",
   "metadata": {},
   "source": [
    "#### N-grams más frecuentes\n",
    "\n",
    "Miro bigramas y trigramas. Al igual que con las palabras, sería interesante verlos después de quitar stopwords y en este caso también se cuela algún signo de puntuación. Reviso si me da tiempo. "
   ]
  },
  {
   "cell_type": "code",
   "execution_count": 39,
   "metadata": {},
   "outputs": [],
   "source": [
    "def find_ngrams(input_list, n):\n",
    "    return list(zip(*[input_list[i:] for i in range(n)]))\n",
    "\n",
    "df_music_inst['bigrams'] = df_music_inst['review'].map(lambda x: find_ngrams(x.split(\" \"), 2))\n",
    "df_music_inst['trigrams'] = df_music_inst['review'].map(lambda x: find_ngrams(x.split(\" \"), 3))"
   ]
  },
  {
   "cell_type": "code",
   "execution_count": 40,
   "metadata": {},
   "outputs": [
    {
     "data": {
      "text/html": [
       "<div>\n",
       "<style scoped>\n",
       "    .dataframe tbody tr th:only-of-type {\n",
       "        vertical-align: middle;\n",
       "    }\n",
       "\n",
       "    .dataframe tbody tr th {\n",
       "        vertical-align: top;\n",
       "    }\n",
       "\n",
       "    .dataframe thead th {\n",
       "        text-align: right;\n",
       "    }\n",
       "</style>\n",
       "<table border=\"1\" class=\"dataframe\">\n",
       "  <thead>\n",
       "    <tr style=\"text-align: right;\">\n",
       "      <th></th>\n",
       "      <th>overall</th>\n",
       "      <th>review</th>\n",
       "      <th>bigrams</th>\n",
       "      <th>trigrams</th>\n",
       "    </tr>\n",
       "  </thead>\n",
       "  <tbody>\n",
       "    <tr>\n",
       "      <th>0</th>\n",
       "      <td>1.0</td>\n",
       "      <td>It's good for beginners Five Stars</td>\n",
       "      <td>[(It's, good), (good, for), (for, beginners), (beginners, Five), (Five, Stars)]</td>\n",
       "      <td>[(It's, good, for), (good, for, beginners), (for, beginners, Five), (beginners, Five, Stars)]</td>\n",
       "    </tr>\n",
       "    <tr>\n",
       "      <th>1</th>\n",
       "      <td>1.0</td>\n",
       "      <td>I recommend this starter Ukulele kit.  I has everything you\\nneed to learn the Ukulele. Five Stars</td>\n",
       "      <td>[(I, recommend), (recommend, this), (this, starter), (starter, Ukulele), (Ukulele, kit.), (kit., ), (, I), (I, has), (has, everything), (everything, you\\nneed), (you\\nneed, to), (to, learn), (learn, the), (the, Ukulele.), (Ukulele., Five), (Five, Stars)]</td>\n",
       "      <td>[(I, recommend, this), (recommend, this, starter), (this, starter, Ukulele), (starter, Ukulele, kit.), (Ukulele, kit., ), (kit., , I), (, I, has), (I, has, everything), (has, everything, you\\nneed), (everything, you\\nneed, to), (you\\nneed, to, learn), (to, learn, the), (learn, the, Ukulele.), (the, Ukulele., Five), (Ukulele., Five, Stars)]</td>\n",
       "    </tr>\n",
       "  </tbody>\n",
       "</table>\n",
       "</div>"
      ],
      "text/plain": [
       "   overall  \\\n",
       "0  1.0       \n",
       "1  1.0       \n",
       "\n",
       "                                                                                               review  \\\n",
       "0  It's good for beginners Five Stars                                                                   \n",
       "1  I recommend this starter Ukulele kit.  I has everything you\\nneed to learn the Ukulele. Five Stars   \n",
       "\n",
       "                                                                                                                                                                                                                                                          bigrams  \\\n",
       "0  [(It's, good), (good, for), (for, beginners), (beginners, Five), (Five, Stars)]                                                                                                                                                                                  \n",
       "1  [(I, recommend), (recommend, this), (this, starter), (starter, Ukulele), (Ukulele, kit.), (kit., ), (, I), (I, has), (has, everything), (everything, you\\nneed), (you\\nneed, to), (to, learn), (learn, the), (the, Ukulele.), (Ukulele., Five), (Five, Stars)]   \n",
       "\n",
       "                                                                                                                                                                                                                                                                                                                                                trigrams  \n",
       "0  [(It's, good, for), (good, for, beginners), (for, beginners, Five), (beginners, Five, Stars)]                                                                                                                                                                                                                                                          \n",
       "1  [(I, recommend, this), (recommend, this, starter), (this, starter, Ukulele), (starter, Ukulele, kit.), (Ukulele, kit., ), (kit., , I), (, I, has), (I, has, everything), (has, everything, you\\nneed), (everything, you\\nneed, to), (you\\nneed, to, learn), (to, learn, the), (learn, the, Ukulele.), (the, Ukulele., Five), (Ukulele., Five, Stars)]  "
      ]
     },
     "execution_count": 40,
     "metadata": {},
     "output_type": "execute_result"
    }
   ],
   "source": [
    "df_music_inst.head(2)"
   ]
  },
  {
   "cell_type": "code",
   "execution_count": 41,
   "metadata": {},
   "outputs": [
    {
     "data": {
      "text/plain": [
       "[(('of', 'the'), 13278),\n",
       " (('', 'i'), 9859),\n",
       " (('on', 'the'), 9520),\n",
       " (('i', 'have'), 8693),\n",
       " (('for', 'the'), 8361),\n",
       " (('in', 'the'), 8190),\n",
       " (('if', 'you'), 7651),\n",
       " (('it', 'is'), 7237),\n",
       " (('for', 'a'), 7168),\n",
       " (('is', 'a'), 7116)]"
      ]
     },
     "execution_count": 41,
     "metadata": {},
     "output_type": "execute_result"
    }
   ],
   "source": [
    "# Bigramas más comunes. Bigram Frequency Counts\n",
    "bigrams = df_music_inst['bigrams'].tolist()\n",
    "bigrams = list(chain(*bigrams))\n",
    "bigrams = [(x.lower(), y.lower()) for x,y in bigrams]\n",
    "\n",
    "bigram_counts = Counter(bigrams)\n",
    "most_common_bigram= bigram_counts.most_common(10)\n",
    "most_common_bigram"
   ]
  },
  {
   "cell_type": "code",
   "execution_count": 42,
   "metadata": {},
   "outputs": [
    {
     "data": {
      "text/plain": [
       "list"
      ]
     },
     "execution_count": 42,
     "metadata": {},
     "output_type": "execute_result"
    }
   ],
   "source": [
    "type(most_common_bigram)"
   ]
  },
  {
   "cell_type": "code",
   "execution_count": 43,
   "metadata": {},
   "outputs": [],
   "source": [
    "big_words= [str(w[0]) for w in most_common_bigram]\n",
    "big_freqs= [w[1] for w in most_common_bigram]\n",
    "\n",
    "big_freqs, big_words = zip(*sorted(zip(big_freqs, big_words)))"
   ]
  },
  {
   "cell_type": "code",
   "execution_count": 44,
   "metadata": {},
   "outputs": [
    {
     "data": {
      "image/png": "[encoded data removed]",
      "text/plain": [
       "<Figure size 432x288 with 1 Axes>"
      ]
     },
     "metadata": {
      "needs_background": "light"
     },
     "output_type": "display_data"
    }
   ],
   "source": [
    "plt.barh(big_words, big_freqs)\n",
    "plt.title('Bigram frequencies')\n",
    "plt.show()"
   ]
  },
  {
   "cell_type": "code",
   "execution_count": 45,
   "metadata": {},
   "outputs": [],
   "source": [
    "# Trigramas más comunes. trigram Frequency Counts\n",
    "trigrams = df_music_inst['trigrams'].tolist()\n",
    "trigrams = list(chain(*trigrams))\n",
    "trigrams = [(x.lower(), y.lower(), z.lower()) for x,y,z in trigrams]\n",
    "\n",
    "trigram_counts = Counter(trigrams)\n",
    "most_common_trigram= trigram_counts.most_common(10)"
   ]
  },
  {
   "cell_type": "code",
   "execution_count": 46,
   "metadata": {},
   "outputs": [],
   "source": [
    "trig_words = [str(w[0]) for w in most_common_trigram]\n",
    "trig_freqs = [w[1] for w in most_common_trigram]\n",
    "trig_freqs,trig_words = zip(*sorted(zip(trig_freqs, trig_words)))"
   ]
  },
  {
   "cell_type": "code",
   "execution_count": 47,
   "metadata": {},
   "outputs": [
    {
     "data": {
      "image/png": "[encoded data removed]",
      "text/plain": [
       "<Figure size 432x288 with 1 Axes>"
      ]
     },
     "metadata": {
      "needs_background": "light"
     },
     "output_type": "display_data"
    }
   ],
   "source": [
    "plt.barh(trig_words, trig_freqs)\n",
    "plt.title('Trigram frequencies')\n",
    "plt.show()"
   ]
  },
  {
   "cell_type": "markdown",
   "metadata": {},
   "source": [
    "#### Nubes de palabras:"
   ]
  },
  {
   "cell_type": "code",
   "execution_count": 48,
   "metadata": {},
   "outputs": [],
   "source": [
    "def plot_word_cloud(text):\n",
    "    wordcloud = WordCloud(max_font_size=50, max_words=100, background_color=\"white\").generate(' '.join(text))\n",
    "    plt.figure(figsize=(12,6))\n",
    "    plt.imshow(wordcloud, interpolation='bilinear')\n",
    "    plt.axis('off')\n",
    "    plt.show()"
   ]
  },
  {
   "cell_type": "code",
   "execution_count": 49,
   "metadata": {},
   "outputs": [
    {
     "data": {
      "image/png": "[encoded data removed]",
      "text/plain": [
       "<Figure size 864x432 with 1 Axes>"
      ]
     },
     "metadata": {
      "needs_background": "light"
     },
     "output_type": "display_data"
    }
   ],
   "source": [
    "plot_word_cloud(words)\n",
    "#Aún sin haber hecho un preprocesado muy a conciencia el resultado me parece muy representativo del tema de la compra de instrumentos musicales (en concreto guitarra y complementos) "
   ]
  },
  {
   "cell_type": "markdown",
   "metadata": {},
   "source": [
    "##### Visualización en 2 dimensiones de algunos word embeddings calculados con Word2Vec (elegir 4-5 palabras y pintar las top 10 más similares)"
   ]
  },
  {
   "cell_type": "code",
   "execution_count": 50,
   "metadata": {},
   "outputs": [],
   "source": [
    "def print_sim_words(word, model1, model2):\n",
    "    query = \"Most similar to {}\".format(word) \n",
    "    print(query)\n",
    "    print(\"-\"*len(query))\n",
    "    for (sim1, sim2) in zip(model1.wv.most_similar(word), model2.wv.most_similar(word)):\n",
    "        print(\"{}:{}{:.3f}{}{}:{}{:.3f}\".format(sim1[0],\n",
    "                                               \" \"*(20-len(sim1[0])), \n",
    "                                               sim1[1], \n",
    "                                               \" \"*10, \n",
    "                                               sim2[0],\n",
    "                                               \" \"*(20-len(sim2[0])),\n",
    "                                               sim2[1]))\n",
    "    print(\"\\n\")"
   ]
  },
  {
   "cell_type": "code",
   "execution_count": 73,
   "metadata": {},
   "outputs": [],
   "source": [
    "#voy probando con cantidades pequeñas y al final me animo a 10000 para intentar obtener mejores resultados al detectar la similitud\n",
    "text=texts[:10000]"
   ]
  },
  {
   "cell_type": "code",
   "execution_count": 92,
   "metadata": {},
   "outputs": [],
   "source": [
    "# voy modificando valores y aunque en algunas pruebas no pongo los mismos para los dos modelos, finalmente decido compararlos en igualdad de condiciones. \n",
    "w2v_mod_sg = Word2Vec(min_count=5,\n",
    "                     sg=1,\n",
    "                     window=3,\n",
    "                     vector_size=200,\n",
    "                     sample=6e-5, \n",
    "                     alpha=0.03, \n",
    "                     min_alpha=0.0007, \n",
    "                     negative=20,\n",
    "                     workers= 4)"
   ]
  },
  {
   "cell_type": "code",
   "execution_count": 93,
   "metadata": {},
   "outputs": [],
   "source": [
    "w2v_mod_cbow = Word2Vec(min_count=5,\n",
    "                     sg=0,\n",
    "                     window=3,\n",
    "                     vector_size=200,\n",
    "                     sample=6e-5, \n",
    "                     alpha=0.03, \n",
    "                     min_alpha=0.0007, \n",
    "                     negative=20,\n",
    "                     workers= 4)"
   ]
  },
  {
   "cell_type": "code",
   "execution_count": 94,
   "metadata": {},
   "outputs": [],
   "source": [
    "w2v_mod_sg.build_vocab(text)"
   ]
  },
  {
   "cell_type": "code",
   "execution_count": 95,
   "metadata": {},
   "outputs": [
    {
     "name": "stdout",
     "output_type": "stream",
     "text": [
      "Vocabulario compuesto por 6505 palabras\n"
     ]
    }
   ],
   "source": [
    "print('Vocabulario compuesto por {} palabras'.format(len(w2v_mod_sg.wv)))"
   ]
  },
  {
   "cell_type": "code",
   "execution_count": 96,
   "metadata": {},
   "outputs": [],
   "source": [
    "w2v_mod_cbow.build_vocab(text)"
   ]
  },
  {
   "cell_type": "code",
   "execution_count": 97,
   "metadata": {},
   "outputs": [
    {
     "name": "stdout",
     "output_type": "stream",
     "text": [
      "Vocabulario compuesto por 6505 palabras\n"
     ]
    }
   ],
   "source": [
    "print('Vocabulario compuesto por {} palabras'.format(len(w2v_mod_cbow.wv)))"
   ]
  },
  {
   "cell_type": "code",
   "execution_count": 98,
   "metadata": {},
   "outputs": [
    {
     "data": {
      "text/plain": [
       "(7785382, 21942680)"
      ]
     },
     "execution_count": 98,
     "metadata": {},
     "output_type": "execute_result"
    }
   ],
   "source": [
    " w2v_mod_sg.train(text, total_examples=len(text), epochs=40)"
   ]
  },
  {
   "cell_type": "code",
   "execution_count": 99,
   "metadata": {},
   "outputs": [
    {
     "data": {
      "text/plain": [
       "(7786990, 21942680)"
      ]
     },
     "execution_count": 99,
     "metadata": {},
     "output_type": "execute_result"
    }
   ],
   "source": [
    "w2v_mod_cbow.train(text, total_examples=len(text), epochs=40) \n",
    "#hago varias pruebas con diferentes épocas "
   ]
  },
  {
   "cell_type": "code",
   "execution_count": 100,
   "metadata": {},
   "outputs": [],
   "source": [
    "w2v_mod_sg.save('w2v_mod_sg.pkl')"
   ]
  },
  {
   "cell_type": "code",
   "execution_count": 101,
   "metadata": {},
   "outputs": [],
   "source": [
    "w2v_mod_cbow.save('w2v_mod_cbow.pkl')"
   ]
  },
  {
   "cell_type": "code",
   "execution_count": 102,
   "metadata": {},
   "outputs": [
    {
     "name": "stdout",
     "output_type": "stream",
     "text": [
      "Most similar to guitar\n",
      "----------------------\n",
      "the:                 0.621          guitar.:             0.603\n",
      "on:                  0.600          guitar,:             0.556\n",
      "and:                 0.600          guitars:             0.524\n",
      "my:                  0.584          electric:            0.499\n",
      "this:                0.581          ovation:             0.465\n",
      "it:                  0.567          guitars.:            0.462\n",
      "for:                 0.564          12-string:           0.454\n",
      "your:                0.554          resonator:           0.450\n",
      "a:                   0.553          banjo:               0.436\n",
      "i:                   0.552          instrument:          0.435\n",
      "\n",
      "\n"
     ]
    }
   ],
   "source": [
    "print_sim_words('guitar', w2v_mod_sg, w2v_mod_cbow)"
   ]
  },
  {
   "cell_type": "code",
   "execution_count": 103,
   "metadata": {},
   "outputs": [
    {
     "name": "stdout",
     "output_type": "stream",
     "text": [
      "Most similar to sound\n",
      "---------------------\n",
      "and:                 0.613          sound.:              0.575\n",
      "sounds:              0.579          clear.:              0.545\n",
      "is:                  0.574          crystal:             0.540\n",
      "a:                   0.544          clarity:             0.530\n",
      "it:                  0.544          sony's:              0.516\n",
      "the:                 0.542          presence:            0.510\n",
      "really:              0.541          vibrant:             0.509\n",
      "but:                 0.531          definition:          0.502\n",
      "are:                 0.520          sounded:             0.501\n",
      "vibrant:             0.517          brighter,:           0.501\n",
      "\n",
      "\n"
     ]
    }
   ],
   "source": [
    "print_sim_words('sound', w2v_mod_sg, w2v_mod_cbow)"
   ]
  },
  {
   "cell_type": "code",
   "execution_count": 104,
   "metadata": {},
   "outputs": [
    {
     "name": "stdout",
     "output_type": "stream",
     "text": [
      "Most similar to price\n",
      "---------------------\n",
      "to..:                0.615          price,:              0.649\n",
      "expected!!:          0.609          price.:              0.634\n",
      "quality:             0.575          prices:              0.608\n",
      "price.:              0.540          cost.:               0.517\n",
      "at:                  0.536          alternatives:        0.517\n",
      "prompt:              0.529          prices.:             0.508\n",
      "delivery!:           0.527          point.:              0.508\n",
      "good:                0.519          quality:             0.494\n",
      "this:                0.512          sale:                0.493\n",
      "prices:              0.502          sure!:               0.489\n",
      "\n",
      "\n"
     ]
    }
   ],
   "source": [
    "print_sim_words('price', w2v_mod_sg, w2v_mod_cbow)"
   ]
  },
  {
   "cell_type": "markdown",
   "metadata": {},
   "source": [
    "#### Conclusiones del w2vec y notebook 1 en general:\n",
    "\n",
    "Con las pruebas que he podido hacer con el word2vec me da la sensación de que el modelo skipgram funciona peor que el bag of words cuando no hay un buen preprocesado previo. Aunque los valores del cosine similarity son medios en casi todos los casos, las palabras similares detectadas son mucho más acertadas. \n",
    "Me gustaría volver sobre ello y con datos más limpios. \n",
    "\n",
    "Como resumen he podido comprobar que la mayoría de las reviews de instrumentos musicales son positivas (queda muy chulo en el wordcloud las palabras five star más grandes), aunque luego para seguir trabajando he balanceado. \n",
    "\n",
    "Al no haber quitado stopwords porque es parte del preprocesado y está en el siguiente notebook, los datos de los bigramas y trigramas no me dicen gran cosa. Resalto el trigrama \"for the price\", y los verbos que más aparecen son to be y have...punto para analizar. \n",
    "\n",
    "Sin haber limpiado demasiado me parece que ha salido un wordcloud que bien podría reflejar la realidad de la compra de instrumentos. veré cuando limpie más a fondo. \n",
    "\n",
    "En el siguiente punto cuando lematice y quite stopwords, seguro que mejoran estos resultados. quizá vuelva y lo ponga aquí... "
   ]
  }
 ],
 "metadata": {
  "kernelspec": {
   "display_name": "Python 3",
   "language": "python",
   "name": "python3"
  },
  "language_info": {
   "codemirror_mode": {
    "name": "ipython",
    "version": 3
   },
   "file_extension": ".py",
   "mimetype": "text/x-python",
   "name": "python",
   "nbconvert_exporter": "python",
   "pygments_lexer": "ipython3",
   "version": "3.8.3"
  }
 },
 "nbformat": 4,
 "nbformat_minor": 4
}
